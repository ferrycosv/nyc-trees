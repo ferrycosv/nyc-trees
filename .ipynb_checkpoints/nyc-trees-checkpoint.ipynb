{
 "cells": [
  {
   "cell_type": "markdown",
   "metadata": {},
   "source": [
    "# NYC trees dataset challenge"
   ]
  },
  {
   "cell_type": "markdown",
   "metadata": {},
   "source": [
    "### Import the pandas library and read CSV file using pandas"
   ]
  },
  {
   "cell_type": "code",
   "execution_count": 40,
   "metadata": {},
   "outputs": [],
   "source": [
    "import pandas as pd\n",
    "\n",
    "\n",
    "df = pd.read_csv('./assets/data_100000.csv')"
   ]
  },
  {
   "cell_type": "markdown",
   "metadata": {},
   "source": [
    "Print general info about datatypes and null values"
   ]
  },
  {
   "cell_type": "code",
   "execution_count": 41,
   "metadata": {},
   "outputs": [
    {
     "name": "stdout",
     "output_type": "stream",
     "text": [
      "<class 'pandas.core.frame.DataFrame'>\n",
      "RangeIndex: 100000 entries, 0 to 99999\n",
      "Data columns (total 42 columns):\n",
      " #   Column      Non-Null Count   Dtype  \n",
      "---  ------      --------------   -----  \n",
      " 0   created_at  100000 non-null  object \n",
      " 1   tree_id     100000 non-null  int64  \n",
      " 2   block_id    100000 non-null  int64  \n",
      " 3   the_geom    100000 non-null  object \n",
      " 4   tree_dbh    100000 non-null  int64  \n",
      " 5   stump_diam  100000 non-null  int64  \n",
      " 6   curb_loc    100000 non-null  object \n",
      " 7   status      100000 non-null  object \n",
      " 8   health      95007 non-null   object \n",
      " 9   spc_latin   95008 non-null   object \n",
      " 10  spc_common  95008 non-null   object \n",
      " 11  steward     95008 non-null   object \n",
      " 12  guards      95008 non-null   object \n",
      " 13  sidewalk    95008 non-null   object \n",
      " 14  user_type   100000 non-null  object \n",
      " 15  problems    95008 non-null   object \n",
      " 16  root_stone  100000 non-null  object \n",
      " 17  root_grate  100000 non-null  object \n",
      " 18  root_other  100000 non-null  object \n",
      " 19  trnk_wire   100000 non-null  object \n",
      " 20  trnk_light  100000 non-null  object \n",
      " 21  trnk_other  100000 non-null  object \n",
      " 22  brnch_ligh  100000 non-null  object \n",
      " 23  brnch_shoe  100000 non-null  object \n",
      " 24  brnch_othe  100000 non-null  object \n",
      " 25  address     100000 non-null  object \n",
      " 26  zipcode     100000 non-null  int64  \n",
      " 27  zip_city    100000 non-null  object \n",
      " 28  cb_num      100000 non-null  int64  \n",
      " 29  borocode    100000 non-null  int64  \n",
      " 30  boroname    100000 non-null  object \n",
      " 31  cncldist    100000 non-null  int64  \n",
      " 32  st_assem    100000 non-null  int64  \n",
      " 33  st_senate   100000 non-null  int64  \n",
      " 34  nta         100000 non-null  object \n",
      " 35  nta_name    100000 non-null  object \n",
      " 36  boro_ct     100000 non-null  int64  \n",
      " 37  state       100000 non-null  object \n",
      " 38  latitude    100000 non-null  float64\n",
      " 39  longitude   100000 non-null  float64\n",
      " 40  x_sp        100000 non-null  float64\n",
      " 41  y_sp        100000 non-null  float64\n",
      "dtypes: float64(4), int64(11), object(27)\n",
      "memory usage: 32.0+ MB\n"
     ]
    }
   ],
   "source": [
    "df.info()"
   ]
  },
  {
   "cell_type": "markdown",
   "metadata": {},
   "source": [
    "### Parse data type from created_at field to datetime"
   ]
  },
  {
   "cell_type": "code",
   "execution_count": 42,
   "metadata": {},
   "outputs": [
    {
     "name": "stdout",
     "output_type": "stream",
     "text": [
      "<class 'pandas.core.frame.DataFrame'>\n",
      "RangeIndex: 100000 entries, 0 to 99999\n",
      "Data columns (total 42 columns):\n",
      " #   Column      Non-Null Count   Dtype         \n",
      "---  ------      --------------   -----         \n",
      " 0   created_at  100000 non-null  datetime64[ns]\n",
      " 1   tree_id     100000 non-null  int64         \n",
      " 2   block_id    100000 non-null  int64         \n",
      " 3   the_geom    100000 non-null  object        \n",
      " 4   tree_dbh    100000 non-null  int64         \n",
      " 5   stump_diam  100000 non-null  int64         \n",
      " 6   curb_loc    100000 non-null  object        \n",
      " 7   status      100000 non-null  object        \n",
      " 8   health      95007 non-null   object        \n",
      " 9   spc_latin   95008 non-null   object        \n",
      " 10  spc_common  95008 non-null   object        \n",
      " 11  steward     95008 non-null   object        \n",
      " 12  guards      95008 non-null   object        \n",
      " 13  sidewalk    95008 non-null   object        \n",
      " 14  user_type   100000 non-null  object        \n",
      " 15  problems    95008 non-null   object        \n",
      " 16  root_stone  100000 non-null  object        \n",
      " 17  root_grate  100000 non-null  object        \n",
      " 18  root_other  100000 non-null  object        \n",
      " 19  trnk_wire   100000 non-null  object        \n",
      " 20  trnk_light  100000 non-null  object        \n",
      " 21  trnk_other  100000 non-null  object        \n",
      " 22  brnch_ligh  100000 non-null  object        \n",
      " 23  brnch_shoe  100000 non-null  object        \n",
      " 24  brnch_othe  100000 non-null  object        \n",
      " 25  address     100000 non-null  object        \n",
      " 26  zipcode     100000 non-null  int64         \n",
      " 27  zip_city    100000 non-null  object        \n",
      " 28  cb_num      100000 non-null  int64         \n",
      " 29  borocode    100000 non-null  int64         \n",
      " 30  boroname    100000 non-null  object        \n",
      " 31  cncldist    100000 non-null  int64         \n",
      " 32  st_assem    100000 non-null  int64         \n",
      " 33  st_senate   100000 non-null  int64         \n",
      " 34  nta         100000 non-null  object        \n",
      " 35  nta_name    100000 non-null  object        \n",
      " 36  boro_ct     100000 non-null  int64         \n",
      " 37  state       100000 non-null  object        \n",
      " 38  latitude    100000 non-null  float64       \n",
      " 39  longitude   100000 non-null  float64       \n",
      " 40  x_sp        100000 non-null  float64       \n",
      " 41  y_sp        100000 non-null  float64       \n",
      "dtypes: datetime64[ns](1), float64(4), int64(11), object(26)\n",
      "memory usage: 32.0+ MB\n"
     ]
    }
   ],
   "source": [
    "df.created_at = df.created_at.apply(lambda item: pd.to_datetime(item))\n",
    "df.info()"
   ]
  },
  {
   "cell_type": "markdown",
   "metadata": {},
   "source": [
    "### Check for null values in columns and rows"
   ]
  },
  {
   "cell_type": "code",
   "execution_count": 43,
   "metadata": {},
   "outputs": [
    {
     "name": "stdout",
     "output_type": "stream",
     "text": [
      "health        4993\n",
      "spc_latin     4992\n",
      "spc_common    4992\n",
      "steward       4992\n",
      "guards        4992\n",
      "sidewalk      4992\n",
      "problems      4992\n",
      "dtype: int64\n"
     ]
    }
   ],
   "source": [
    "df_col_nulls = df.isnull().sum()\n",
    "df_col_nulls = df_col_nulls[df_col_nulls > 0]\n",
    "print(df_col_nulls)"
   ]
  },
  {
   "cell_type": "code",
   "execution_count": 44,
   "metadata": {},
   "outputs": [
    {
     "name": "stdout",
     "output_type": "stream",
     "text": [
      "630      7\n",
      "631      7\n",
      "634      7\n",
      "635      7\n",
      "636      7\n",
      "        ..\n",
      "99291    7\n",
      "99293    7\n",
      "99294    7\n",
      "99295    7\n",
      "99296    7\n",
      "Length: 4993, dtype: int64\n"
     ]
    }
   ],
   "source": [
    "df_row_nulls = df.isnull().sum(axis = 1)\n",
    "df_row_nulls = df_row_nulls[df_row_nulls > 0]\n",
    "print(df_row_nulls)"
   ]
  },
  {
   "cell_type": "code",
   "execution_count": 45,
   "metadata": {},
   "outputs": [
    {
     "data": {
      "text/html": [
       "<div>\n",
       "<style scoped>\n",
       "    .dataframe tbody tr th:only-of-type {\n",
       "        vertical-align: middle;\n",
       "    }\n",
       "\n",
       "    .dataframe tbody tr th {\n",
       "        vertical-align: top;\n",
       "    }\n",
       "\n",
       "    .dataframe thead th {\n",
       "        text-align: right;\n",
       "    }\n",
       "</style>\n",
       "<table border=\"1\" class=\"dataframe\">\n",
       "  <thead>\n",
       "    <tr style=\"text-align: right;\">\n",
       "      <th></th>\n",
       "      <th>health</th>\n",
       "      <th>spc_latin</th>\n",
       "      <th>spc_common</th>\n",
       "      <th>steward</th>\n",
       "      <th>guards</th>\n",
       "      <th>sidewalk</th>\n",
       "      <th>problems</th>\n",
       "    </tr>\n",
       "  </thead>\n",
       "  <tbody>\n",
       "    <tr>\n",
       "      <th>0</th>\n",
       "      <td>Fair</td>\n",
       "      <td>Acer rubrum</td>\n",
       "      <td>red maple</td>\n",
       "      <td>None</td>\n",
       "      <td>None</td>\n",
       "      <td>NoDamage</td>\n",
       "      <td>None</td>\n",
       "    </tr>\n",
       "    <tr>\n",
       "      <th>1</th>\n",
       "      <td>Fair</td>\n",
       "      <td>Quercus palustris</td>\n",
       "      <td>pin oak</td>\n",
       "      <td>None</td>\n",
       "      <td>None</td>\n",
       "      <td>Damage</td>\n",
       "      <td>Stones</td>\n",
       "    </tr>\n",
       "    <tr>\n",
       "      <th>2</th>\n",
       "      <td>Good</td>\n",
       "      <td>Gleditsia triacanthos var. inermis</td>\n",
       "      <td>honeylocust</td>\n",
       "      <td>1or2</td>\n",
       "      <td>None</td>\n",
       "      <td>Damage</td>\n",
       "      <td>None</td>\n",
       "    </tr>\n",
       "    <tr>\n",
       "      <th>3</th>\n",
       "      <td>Good</td>\n",
       "      <td>Gleditsia triacanthos var. inermis</td>\n",
       "      <td>honeylocust</td>\n",
       "      <td>None</td>\n",
       "      <td>None</td>\n",
       "      <td>Damage</td>\n",
       "      <td>Stones</td>\n",
       "    </tr>\n",
       "    <tr>\n",
       "      <th>4</th>\n",
       "      <td>Good</td>\n",
       "      <td>Tilia americana</td>\n",
       "      <td>American linden</td>\n",
       "      <td>None</td>\n",
       "      <td>None</td>\n",
       "      <td>Damage</td>\n",
       "      <td>Stones</td>\n",
       "    </tr>\n",
       "  </tbody>\n",
       "</table>\n",
       "</div>"
      ],
      "text/plain": [
       "  health                           spc_latin       spc_common steward guards  \\\n",
       "0   Fair                         Acer rubrum        red maple    None   None   \n",
       "1   Fair                   Quercus palustris          pin oak    None   None   \n",
       "2   Good  Gleditsia triacanthos var. inermis      honeylocust    1or2   None   \n",
       "3   Good  Gleditsia triacanthos var. inermis      honeylocust    None   None   \n",
       "4   Good                     Tilia americana  American linden    None   None   \n",
       "\n",
       "   sidewalk problems  \n",
       "0  NoDamage     None  \n",
       "1    Damage   Stones  \n",
       "2    Damage     None  \n",
       "3    Damage   Stones  \n",
       "4    Damage   Stones  "
      ]
     },
     "execution_count": 45,
     "metadata": {},
     "output_type": "execute_result"
    }
   ],
   "source": [
    "df[df_col_nulls.index.to_list()].head()"
   ]
  },
  {
   "cell_type": "markdown",
   "metadata": {},
   "source": [
    "### Missing data cannot be imputed, proceeding with removing rows with null values"
   ]
  },
  {
   "cell_type": "code",
   "execution_count": 47,
   "metadata": {},
   "outputs": [
    {
     "name": "stdout",
     "output_type": "stream",
     "text": [
      "<class 'pandas.core.frame.DataFrame'>\n",
      "Int64Index: 95007 entries, 0 to 99999\n",
      "Data columns (total 42 columns):\n",
      " #   Column      Non-Null Count  Dtype         \n",
      "---  ------      --------------  -----         \n",
      " 0   created_at  95007 non-null  datetime64[ns]\n",
      " 1   tree_id     95007 non-null  int64         \n",
      " 2   block_id    95007 non-null  int64         \n",
      " 3   the_geom    95007 non-null  object        \n",
      " 4   tree_dbh    95007 non-null  int64         \n",
      " 5   stump_diam  95007 non-null  int64         \n",
      " 6   curb_loc    95007 non-null  object        \n",
      " 7   status      95007 non-null  object        \n",
      " 8   health      95007 non-null  object        \n",
      " 9   spc_latin   95007 non-null  object        \n",
      " 10  spc_common  95007 non-null  object        \n",
      " 11  steward     95007 non-null  object        \n",
      " 12  guards      95007 non-null  object        \n",
      " 13  sidewalk    95007 non-null  object        \n",
      " 14  user_type   95007 non-null  object        \n",
      " 15  problems    95007 non-null  object        \n",
      " 16  root_stone  95007 non-null  object        \n",
      " 17  root_grate  95007 non-null  object        \n",
      " 18  root_other  95007 non-null  object        \n",
      " 19  trnk_wire   95007 non-null  object        \n",
      " 20  trnk_light  95007 non-null  object        \n",
      " 21  trnk_other  95007 non-null  object        \n",
      " 22  brnch_ligh  95007 non-null  object        \n",
      " 23  brnch_shoe  95007 non-null  object        \n",
      " 24  brnch_othe  95007 non-null  object        \n",
      " 25  address     95007 non-null  object        \n",
      " 26  zipcode     95007 non-null  int64         \n",
      " 27  zip_city    95007 non-null  object        \n",
      " 28  cb_num      95007 non-null  int64         \n",
      " 29  borocode    95007 non-null  int64         \n",
      " 30  boroname    95007 non-null  object        \n",
      " 31  cncldist    95007 non-null  int64         \n",
      " 32  st_assem    95007 non-null  int64         \n",
      " 33  st_senate   95007 non-null  int64         \n",
      " 34  nta         95007 non-null  object        \n",
      " 35  nta_name    95007 non-null  object        \n",
      " 36  boro_ct     95007 non-null  int64         \n",
      " 37  state       95007 non-null  object        \n",
      " 38  latitude    95007 non-null  float64       \n",
      " 39  longitude   95007 non-null  float64       \n",
      " 40  x_sp        95007 non-null  float64       \n",
      " 41  y_sp        95007 non-null  float64       \n",
      "dtypes: datetime64[ns](1), float64(4), int64(11), object(26)\n",
      "memory usage: 31.2+ MB\n"
     ]
    }
   ],
   "source": [
    "df.dropna(axis=0, how=\"any\", thresh=None, subset=None, inplace=True)\n",
    "df.info()"
   ]
  },
  {
   "cell_type": "markdown",
   "metadata": {},
   "source": [
    "### Finding duplicate data by tree_id"
   ]
  },
  {
   "cell_type": "code",
   "execution_count": 48,
   "metadata": {},
   "outputs": [
    {
     "data": {
      "text/plain": [
       "0"
      ]
     },
     "execution_count": 48,
     "metadata": {},
     "output_type": "execute_result"
    }
   ],
   "source": [
    "df.tree_id.duplicated().sum()"
   ]
  },
  {
   "cell_type": "markdown",
   "metadata": {},
   "source": [
    "### Exporting processed dataframe to a CSV file"
   ]
  },
  {
   "cell_type": "code",
   "execution_count": 49,
   "metadata": {},
   "outputs": [],
   "source": [
    "df.to_csv('./assets/data_100000_output.csv', encoding='utf-8')"
   ]
  }
 ],
 "metadata": {
  "kernelspec": {
   "display_name": "Python 3",
   "language": "python",
   "name": "python3"
  },
  "language_info": {
   "codemirror_mode": {
    "name": "ipython",
    "version": 3
   },
   "file_extension": ".py",
   "mimetype": "text/x-python",
   "name": "python",
   "nbconvert_exporter": "python",
   "pygments_lexer": "ipython3",
   "version": "3.7.7"
  }
 },
 "nbformat": 4,
 "nbformat_minor": 4
}
